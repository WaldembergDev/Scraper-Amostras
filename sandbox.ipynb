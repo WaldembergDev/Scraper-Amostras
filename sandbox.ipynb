{
 "cells": [
  {
   "cell_type": "code",
   "execution_count": 127,
   "id": "58103305",
   "metadata": {},
   "outputs": [
    {
     "data": {
      "text/plain": [
       "True"
      ]
     },
     "execution_count": 127,
     "metadata": {},
     "output_type": "execute_result"
    }
   ],
   "source": [
    "from selenium import webdriver\n",
    "from selenium.webdriver.common.by import By\n",
    "from selenium.webdriver.chrome.service import Service\n",
    "from webdriver_manager.chrome import ChromeDriverManager\n",
    "from selenium.webdriver.support import expected_conditions as EC\n",
    "from selenium.webdriver.support.ui import WebDriverWait\n",
    "from selenium.webdriver.chrome.options import Options\n",
    "from datetime import date, timedelta\n",
    "from dotenv import load_dotenv\n",
    "import os\n",
    "import time\n",
    "from selenium.webdriver.common.keys import Keys\n",
    "\n",
    "# carregando as variáveis de ambiente\n",
    "load_dotenv()\n"
   ]
  },
  {
   "cell_type": "code",
   "execution_count": 128,
   "id": "eec867be",
   "metadata": {},
   "outputs": [],
   "source": [
    "def retornar_periodo():\n",
    "    hoje = date.today()\n",
    "    amanha = hoje + timedelta(days=1)\n",
    "    hoje_str = date.strftime(hoje, '%d/%m/%Y')\n",
    "    amanha_str = date.strftime(amanha, '%d/%m/%Y')\n",
    "    periodo_str = (f'{hoje_str} - {amanha_str}')\n",
    "    return periodo_str\n"
   ]
  },
  {
   "cell_type": "code",
   "execution_count": 136,
   "id": "12172367",
   "metadata": {},
   "outputs": [],
   "source": [
    "def obter_driver():\n",
    "    usuario = os.getlogin()\n",
    "    chrome_options = Options()\n",
    "    chrome_options.add_argument(\n",
    "        f'user-data-dir=C:/Users/{usuario}/AppData/Local/Google/Chrome/Selenium'\n",
    "    )\n",
    "    service = Service(ChromeDriverManager().install())\n",
    "    driver = webdriver.Chrome(service=service, options=chrome_options)\n",
    "\n",
    "    # maximixando a tela\n",
    "    driver.maximize_window()\n",
    "    return driver"
   ]
  },
  {
   "cell_type": "code",
   "execution_count": 135,
   "id": "40bba9c1",
   "metadata": {},
   "outputs": [],
   "source": [
    "def logar(driver):\n",
    "    # indo para a tela de login\n",
    "    driver.get(\"https://qualylab.gerencialab.com.br/\")\n",
    "\n",
    "    # aguardando elemento aparecer na tela\n",
    "    WebDriverWait(driver, 30).until(\n",
    "        EC.presence_of_element_located((By.XPATH, '/html/body/div[2]/div/div/div/div/div[1]/a/img'))\n",
    "        )\n",
    "    time.sleep(4)\n",
    "\n",
    "    # obtendo as variáveis de ambiente\n",
    "    login = os.getenv('LOGIN')\n",
    "    password = os.getenv('PASSWORD')\n",
    "\n",
    "    # preenchendo o campo usuário\n",
    "    driver.find_element(By.XPATH, '//*[@id=\"loginsite\"]').send_keys(login)\n",
    "\n",
    "    # preenchendo o campo senha\n",
    "    driver.find_element(By.XPATH, '//*[@id=\"senhasite\"]').send_keys(password)\n",
    "\n",
    "    # clicando em acessar\n",
    "    driver.find_element(By.XPATH, '//*[@id=\"authLogin\"]').click()\n",
    "\n",
    "    # aguardando logo GerenciaLab Aparecer na tela\n",
    "    WebDriverWait(driver, 30).until(EC.presence_of_element_located((By.XPATH, '/html/body/div[1]/div/div[1]/div/a/img')))\n",
    "    time.sleep(4)\n",
    "\n",
    "    return True"
   ]
  },
  {
   "cell_type": "code",
   "execution_count": 134,
   "id": "875ebfc3",
   "metadata": {},
   "outputs": [],
   "source": [
    "# função que obtém a lista das amostras\n",
    "def obter_dados(driver):\n",
    "    # indo para ordens de serviço\n",
    "    driver.get(\"https://qualylab.gerencialab.com.br/service-order\")\n",
    "    # aguardando label Ordem serviços aparecer na tela\n",
    "    elemento = WebDriverWait(driver, 30).until(EC.presence_of_element_located((By.XPATH, '//*[@id=\"main-wrapper\"]/div/div/h4')))\n",
    "    time.sleep(4)\n",
    "    # clicando no botão Limpar Pesquisa\n",
    "    driver.find_element(By.XPATH, '//*[@id=\"ButtonsShowTable\"]/div/button[5]').click()\n",
    "    time.sleep(4)\n",
    "    # obtendo o campo da data de entrega\n",
    "    campo_data = driver.find_element(By.XPATH, '//*[@id=\"dataPrazoEntregaOSForm\"]')\n",
    "    campo_data.send_keys(retornar_periodo())\n",
    "\n",
    "    # clicando em aplicar\n",
    "    driver.find_element(By.XPATH, '/html/body/div[5]/div[4]/button[2]').click()\n",
    "    time.sleep(4)\n",
    "\n",
    "    # obtendo a lista de elementos\n",
    "    lista_elementos = driver.find_elements(By.CSS_SELECTOR, '#tableOrdemdeServico tr.even, #tableOrdemdeServico tr.odd')\n",
    "\n",
    "    amostras = []\n",
    "    for linha in lista_elementos:\n",
    "        cliente = linha.find_elements(By.TAG_NAME, 'td')[4].text\n",
    "        status_os = linha.find_elements(By.TAG_NAME, 'td')[1].text\n",
    "        amostra = linha.find_elements(By.TAG_NAME, 'td')[2].text\n",
    "        prioridade = linha.find_elements(By.TAG_NAME, 'td')[3].text\n",
    "        amostras.append((status_os, amostra, cliente, prioridade))\n",
    "\n",
    "    return amostras"
   ]
  },
  {
   "cell_type": "code",
   "execution_count": 137,
   "id": "a3fe7082",
   "metadata": {},
   "outputs": [],
   "source": [
    "def sair_sistema(driver):\n",
    "    driver.find_element(By.XPATH, '/html/body/div[1]/div/div[2]/div/div/ul/li[4]/a').click()\n",
    "    time.sleep(4)\n",
    "    driver.close()\n",
    "    "
   ]
  },
  {
   "cell_type": "code",
   "execution_count": 138,
   "id": "ded01806",
   "metadata": {},
   "outputs": [
    {
     "name": "stdout",
     "output_type": "stream",
     "text": [
      "[('Aguardando agendamento', 'AM00000093/2025', 'Uanderson ( Uanderson )', 'Padrão'), ('Aguardando agendamento', 'AM00000076/2025', 'Waldemberg Pereira (\\nWaldemberg Pereira )', 'Padrão'), ('Aguardando agendamento', 'AM00000074/2025', 'Waldemberg Pereira (\\nWaldemberg Pereira )', 'Padrão'), ('Aguardando agendamento', 'AM00000075/2025', 'Waldemberg Pereira (\\nWaldemberg Pereira )', 'Padrão'), ('Aguardando agendamento', 'AM00000068/2025', 'Uanderson ( Uanderson )', 'Padrão'), ('Aguardando agendamento', 'AM00000069/2025', 'Uanderson ( Uanderson )', 'Padrão')]\n"
     ]
    }
   ],
   "source": [
    "# testes\n",
    "driver = obter_driver()\n",
    "logado = logar(driver)\n",
    "if logado:\n",
    "    dados = obter_dados(driver)\n",
    "    print(dados)\n",
    "    sair_sistema(driver)\n",
    "else:\n",
    "    print('Não foi possível logar')"
   ]
  }
 ],
 "metadata": {
  "kernelspec": {
   "display_name": ".venv",
   "language": "python",
   "name": "python3"
  },
  "language_info": {
   "codemirror_mode": {
    "name": "ipython",
    "version": 3
   },
   "file_extension": ".py",
   "mimetype": "text/x-python",
   "name": "python",
   "nbconvert_exporter": "python",
   "pygments_lexer": "ipython3",
   "version": "3.12.3"
  }
 },
 "nbformat": 4,
 "nbformat_minor": 5
}
