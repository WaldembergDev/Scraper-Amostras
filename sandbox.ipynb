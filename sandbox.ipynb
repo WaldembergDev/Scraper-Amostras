{
 "cells": [
  {
   "cell_type": "code",
   "execution_count": 2,
   "id": "58103305",
   "metadata": {},
   "outputs": [],
   "source": [
    "from selenium import webdriver\n",
    "from selenium.webdriver.common.by import By\n",
    "from selenium.webdriver.chrome.service import Service\n",
    "from webdriver_manager.chrome import ChromeDriverManager\n",
    "\n",
    "service = Service(ChromeDriverManager().install())\n",
    "driver = webdriver.Chrome(service=service)\n",
    "\n"
   ]
  },
  {
   "cell_type": "code",
   "execution_count": null,
   "id": "875ebfc3",
   "metadata": {},
   "outputs": [],
   "source": [
    "# indo para ordens de serviço\n",
    "driver.get(\"https://qualylab.gerencialab.com.br/service-order\")"
   ]
  },
  {
   "cell_type": "code",
   "execution_count": null,
   "id": "e0a1978b",
   "metadata": {},
   "outputs": [],
   "source": [
    "\n",
    "from selenium.webdriver.support import expected_conditions as EC\n",
    "from selenium.webdriver.support.ui import WebDriverWait\n",
    "import time\n",
    "\n",
    "# aguardando label Ordem serviços aparecer na tela\n",
    "elemento = WebDriverWait(driver, 30).until(EC.presence_of_element_located((By.XPATH, '//*[@id=\"main-wrapper\"]/div/div/h4')))\n",
    "time.sleep(4)\n"
   ]
  },
  {
   "cell_type": "code",
   "execution_count": 69,
   "id": "30b71435",
   "metadata": {},
   "outputs": [],
   "source": [
    "campo_data = driver.find_element(By.XPATH, '//*[@id=\"dataPrazoEntregaOSForm\"]')\n",
    "\n",
    "campo_data.clear()\n"
   ]
  },
  {
   "cell_type": "code",
   "execution_count": 70,
   "id": "87a97edb",
   "metadata": {},
   "outputs": [],
   "source": [
    "campo_data.send_keys('04/06/2025 - 05/06/2025')"
   ]
  },
  {
   "cell_type": "code",
   "execution_count": 71,
   "id": "a6d078ba",
   "metadata": {},
   "outputs": [],
   "source": [
    "from selenium.webdriver.common.keys import Keys\n",
    "\n",
    "# clicando em aplicar\n",
    "driver.find_element(By.XPATH, '/html/body/div[5]/div[4]/button[2]').click()"
   ]
  },
  {
   "cell_type": "code",
   "execution_count": 72,
   "id": "1f561b27",
   "metadata": {},
   "outputs": [],
   "source": [
    "lista_amostras = driver.find_elements(By.CSS_SELECTOR, '#tableOrdemdeServico tr.even, #tableOrdemdeServico tr.odd')"
   ]
  },
  {
   "cell_type": "code",
   "execution_count": 75,
   "id": "613e4a13",
   "metadata": {},
   "outputs": [],
   "source": [
    "amostras = []\n",
    "for linha in lista_amostras:\n",
    "    amostra = linha.find_elements(By.TAG_NAME, 'td')[3].text\n",
    "    amostras.append(amostra)"
   ]
  },
  {
   "cell_type": "code",
   "execution_count": 76,
   "id": "f2e1c362",
   "metadata": {},
   "outputs": [
    {
     "name": "stdout",
     "output_type": "stream",
     "text": [
      "['AM00000092/2025', 'AM00000084/2025', 'AM00000085/2025', 'AM00000080/2025', 'AM00000081/2025']\n"
     ]
    }
   ],
   "source": [
    "print(amostras)"
   ]
  }
 ],
 "metadata": {
  "kernelspec": {
   "display_name": ".venv",
   "language": "python",
   "name": "python3"
  },
  "language_info": {
   "codemirror_mode": {
    "name": "ipython",
    "version": 3
   },
   "file_extension": ".py",
   "mimetype": "text/x-python",
   "name": "python",
   "nbconvert_exporter": "python",
   "pygments_lexer": "ipython3",
   "version": "3.12.3"
  }
 },
 "nbformat": 4,
 "nbformat_minor": 5
}
