{
 "cells": [
  {
   "cell_type": "code",
   "execution_count": 71,
   "id": "58103305",
   "metadata": {},
   "outputs": [
    {
     "data": {
      "text/plain": [
       "True"
      ]
     },
     "execution_count": 71,
     "metadata": {},
     "output_type": "execute_result"
    }
   ],
   "source": [
    "from selenium import webdriver\n",
    "from selenium.webdriver.common.by import By\n",
    "from selenium.webdriver.chrome.service import Service\n",
    "from webdriver_manager.chrome import ChromeDriverManager\n",
    "from selenium.webdriver.support import expected_conditions as EC\n",
    "from selenium.webdriver.support.ui import WebDriverWait\n",
    "from selenium.webdriver.chrome.options import Options\n",
    "from datetime import date, timedelta\n",
    "from dotenv import load_dotenv\n",
    "from selenium.webdriver.common.keys import Keys\n",
    "import os\n",
    "import time\n",
    "\n",
    "# carregando as variáveis de ambiente\n",
    "load_dotenv()\n"
   ]
  },
  {
   "cell_type": "code",
   "execution_count": 73,
   "id": "eec867be",
   "metadata": {},
   "outputs": [],
   "source": [
    "def retornar_periodo():\n",
    "    hoje = date.today()\n",
    "    amanha = hoje + timedelta(days=1)\n",
    "    hoje_str = date.strftime(hoje, '%d/%m/%Y')\n",
    "    amanha_str = date.strftime(amanha, '%d/%m/%Y')\n",
    "    periodo_str = (f'{hoje_str} - {amanha_str}')\n",
    "    return periodo_str\n"
   ]
  },
  {
   "cell_type": "code",
   "execution_count": 74,
   "id": "12172367",
   "metadata": {},
   "outputs": [],
   "source": [
    "def obter_driver():\n",
    "    try:\n",
    "        # obtendo o usuário logado\n",
    "        usuario = os.getlogin()\n",
    "        chrome_options = Options()\n",
    "        chrome_options.add_argument(\n",
    "            f'user-data-dir=C:/Users/{usuario}/AppData/Local/Google/Chrome/Selenium'\n",
    "        )\n",
    "        service = Service(ChromeDriverManager().install())\n",
    "        driver = webdriver.Chrome(service=service, options=chrome_options)\n",
    "\n",
    "        # maximixando a tela\n",
    "        driver.maximize_window()\n",
    "        return driver\n",
    "    except Exception as e:\n",
    "        raise RuntimeError(f\"Erro ao obter o driver: {e}\")"
   ]
  },
  {
   "cell_type": "code",
   "execution_count": 76,
   "id": "40bba9c1",
   "metadata": {},
   "outputs": [],
   "source": [
    "def logar(driver):\n",
    "    try:\n",
    "        # indo para a tela de login\n",
    "        driver.get(\"https://qualylab.gerencialab.com.br/\")\n",
    "\n",
    "        # aguardando elemento aparecer na tela\n",
    "        WebDriverWait(driver, 30).until(\n",
    "            EC.presence_of_element_located((By.XPATH, '//img[@src=\"/assets/images/Logo_Gerencialab-azul.png\"]'))\n",
    "            )\n",
    "        time.sleep(4)\n",
    "\n",
    "        # obtendo as variáveis de ambiente\n",
    "        login = os.getenv('LOGIN')\n",
    "        password = os.getenv('PASSWORD')\n",
    "\n",
    "        if not login or not password:\n",
    "            raise ValueError('Variáveis de ambiente LOGIN ou PASSWORD não definidas.')\n",
    "\n",
    "        # preenchendo o campo usuário\n",
    "        driver.find_element(By.XPATH, '//*[@id=\"loginsite\"]').send_keys(login)\n",
    "\n",
    "        # preenchendo o campo senha\n",
    "        driver.find_element(By.XPATH, '//*[@id=\"senhasite\"]').send_keys(password)\n",
    "\n",
    "        # clicando em acessar\n",
    "        driver.find_element(By.XPATH, '//*[@id=\"authLogin\"]').click()\n",
    "\n",
    "        # aguardando logo GerenciaLab Aparecer na tela\n",
    "        WebDriverWait(driver, 30).until(\n",
    "            EC.presence_of_element_located((By.XPATH, '//img[@src=\"/assets/images/gerencialab-logo-n.png\"]'))\n",
    "            )\n",
    "        time.sleep(4)\n",
    "\n",
    "        print('Login realizado com sucesso!')\n",
    "    except Exception as e:\n",
    "        raise RuntimeError(f'Erro ao realizar login no sistema: {e}')"
   ]
  },
  {
   "cell_type": "code",
   "execution_count": 90,
   "id": "875ebfc3",
   "metadata": {},
   "outputs": [],
   "source": [
    "# função que obtém a lista das amostras\n",
    "def obter_dados(driver):\n",
    "    try:\n",
    "        # indo para ordens de serviço\n",
    "        driver.get(\"https://qualylab.gerencialab.com.br/service-order\")\n",
    "        # aguardando label Ordem serviços aparecer na tela\n",
    "        WebDriverWait(driver, 30).until(\n",
    "            EC.presence_of_element_located((By.XPATH, '//h4[text()=\"Ordem serviços\"]'))\n",
    "            )\n",
    "        time.sleep(4)\n",
    "        \n",
    "        # clicando no botão Limpar Pesquisa\n",
    "        WebDriverWait(driver, 10).until(\n",
    "            EC.element_to_be_clickable((By.XPATH, '//span[text()=\"Limpar Pesquisa\"]',))\n",
    "            ).click()\n",
    "        time.sleep(3)\n",
    "        # obtendo o campo da data de entrega\n",
    "        campo_data = WebDriverWait(driver, 10).until(\n",
    "            EC.element_to_be_clickable((By.XPATH, '//*[@id=\"dataPrazoEntregaOSForm\"]',))\n",
    "            )\n",
    "        # preenchendo o campo data de entrega\n",
    "        campo_data.send_keys(retornar_periodo())\n",
    "        time.sleep(3)\n",
    "        # clicando em aplicar\n",
    "        WebDriverWait(driver, 10).until(\n",
    "            EC.element_to_be_clickable((By.XPATH, '//div[@class=\"drp-buttons\"]//button[text()=\"Aplicar\" and not(@disabled)]',))\n",
    "            ).click()\n",
    "        time.sleep(4)\n",
    "        \n",
    "        # obtendo a lista de elementos\n",
    "        lista_elementos = driver.find_elements(By.CSS_SELECTOR, '#tableOrdemdeServico tr.even, #tableOrdemdeServico tr.odd')\n",
    "\n",
    "        amostras = []\n",
    "        for linha in lista_elementos:\n",
    "            cliente = linha.find_elements(By.TAG_NAME, 'td')[4].text\n",
    "            status_os = linha.find_elements(By.TAG_NAME, 'td')[1].text\n",
    "            amostra = linha.find_elements(By.TAG_NAME, 'td')[2].text\n",
    "            prioridade = linha.find_elements(By.TAG_NAME, 'td')[3].text\n",
    "            amostras.append((status_os, amostra, cliente, prioridade))\n",
    "\n",
    "        return amostras\n",
    "    except Exception as e:\n",
    "        print(f'Erro ao obter os dados: {e}')\n",
    "        return None"
   ]
  },
  {
   "cell_type": "code",
   "execution_count": 78,
   "id": "a3fe7082",
   "metadata": {},
   "outputs": [],
   "source": [
    "def sair_sistema(driver):\n",
    "    try:\n",
    "        driver.find_element(By.XPATH, '//a[@href=\"/sair\"]').click()\n",
    "        time.sleep(4)\n",
    "        driver.close()\n",
    "        return True\n",
    "    except Exception as e:\n",
    "        print(f'Erro ao fechar o navegador: {e}')\n",
    "        return False"
   ]
  },
  {
   "cell_type": "code",
   "execution_count": 79,
   "id": "8b5b04a8",
   "metadata": {},
   "outputs": [],
   "source": [
    "# Iniciar automação\n",
    "def iniciar_automacao():\n",
    "    try:\n",
    "        driver = obter_driver()\n",
    "        if not driver:\n",
    "            return 'Erro ao criar o driver'\n",
    "        logado = logar(driver)\n",
    "        dados = obter_dados(driver)\n",
    "        print(dados)\n",
    "        # sair = sair_sistema(driver)\n",
    "        # if not sair:\n",
    "        #     return 'Erro ao sair do sistema'\n",
    "    except Exception as e:\n",
    "        print(f'Erro: {e}')"
   ]
  },
  {
   "cell_type": "code",
   "execution_count": null,
   "id": "ded01806",
   "metadata": {},
   "outputs": [],
   "source": [
    "# testes\n",
    "driver = obter_driver()\n",
    "logado = logar(driver)\n",
    "obter_dados(driver)"
   ]
  },
  {
   "cell_type": "code",
   "execution_count": 95,
   "id": "07104cf0",
   "metadata": {},
   "outputs": [],
   "source": [
    "# desenvolvendo uma função que aplique os filtros\n",
    "WebDriverWait(driver, 10).until(\n",
    "    EC.element_to_be_clickable((By.XPATH, '//button[@aria-controls=\"tableOrdemdeServico\"]//span[text()=\"Visualizar Colunas\"]'))\n",
    "    ).click()"
   ]
  },
  {
   "cell_type": "code",
   "execution_count": null,
   "id": "0b6d1d19",
   "metadata": {},
   "outputs": [],
   "source": []
  }
 ],
 "metadata": {
  "kernelspec": {
   "display_name": ".venv",
   "language": "python",
   "name": "python3"
  },
  "language_info": {
   "codemirror_mode": {
    "name": "ipython",
    "version": 3
   },
   "file_extension": ".py",
   "mimetype": "text/x-python",
   "name": "python",
   "nbconvert_exporter": "python",
   "pygments_lexer": "ipython3",
   "version": "3.12.3"
  }
 },
 "nbformat": 4,
 "nbformat_minor": 5
}
