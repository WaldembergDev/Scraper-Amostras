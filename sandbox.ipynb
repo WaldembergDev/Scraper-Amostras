{
 "cells": [
  {
   "cell_type": "code",
   "execution_count": 75,
   "id": "58103305",
   "metadata": {},
   "outputs": [
    {
     "data": {
      "text/plain": [
       "True"
      ]
     },
     "execution_count": 75,
     "metadata": {},
     "output_type": "execute_result"
    }
   ],
   "source": [
    "from selenium import webdriver\n",
    "from selenium.webdriver.common.by import By\n",
    "from selenium.webdriver.chrome.service import Service\n",
    "from webdriver_manager.chrome import ChromeDriverManager\n",
    "from selenium.webdriver.support import expected_conditions as EC\n",
    "from selenium.webdriver.support.ui import WebDriverWait\n",
    "from datetime import date, timedelta\n",
    "from dotenv import load_dotenv\n",
    "import os\n",
    "import time\n",
    "\n",
    "# carregando as variáveis de ambiente\n",
    "load_dotenv()\n"
   ]
  },
  {
   "cell_type": "code",
   "execution_count": 91,
   "id": "eec867be",
   "metadata": {},
   "outputs": [],
   "source": [
    "def retornar_periodo():\n",
    "    hoje = date.today()\n",
    "    amanha = hoje + timedelta(days=1)\n",
    "    hoje_str = date.strftime(hoje, '%d/%m/%Y')\n",
    "    amanha_str = date.strftime(amanha, '%d/%m/%Y')\n",
    "    periodo_str = (f'{hoje_str} - {amanha_str}')\n",
    "    return periodo_str\n"
   ]
  },
  {
   "cell_type": "code",
   "execution_count": 90,
   "id": "12172367",
   "metadata": {},
   "outputs": [],
   "source": [
    "def obter_driver():\n",
    "    service = Service(ChromeDriverManager().install())\n",
    "    driver = webdriver.Chrome(service=service)\n",
    "\n",
    "    # maximixando a tela\n",
    "    driver.maximize_window()\n",
    "    return driver"
   ]
  },
  {
   "cell_type": "code",
   "execution_count": 89,
   "id": "40bba9c1",
   "metadata": {},
   "outputs": [],
   "source": [
    "def logar(driver):\n",
    "    # indo para a tela de login\n",
    "    driver.get(\"https://qualylab.gerencialab.com.br/\")\n",
    "\n",
    "    # aguardando elemento aparecer na tela\n",
    "    WebDriverWait(driver, 30).until(\n",
    "        EC.presence_of_element_located((By.XPATH, '/html/body/div[2]/div/div/div/div/div[1]/a/img'))\n",
    "        )\n",
    "    time.sleep(4)\n",
    "\n",
    "    # obtendo as variáveis de ambiente\n",
    "    login = os.getenv('LOGIN')\n",
    "    password = os.getenv('PASSWORD')\n",
    "\n",
    "    # preenchendo o campo usuário\n",
    "    driver.find_element(By.XPATH, '//*[@id=\"loginsite\"]').send_keys(login)\n",
    "\n",
    "    # preenchendo o campo senha\n",
    "    driver.find_element(By.XPATH, '//*[@id=\"senhasite\"]').send_keys(password)\n",
    "\n",
    "    # clicando em acessar\n",
    "    driver.find_element(By.XPATH, '//*[@id=\"authLogin\"]').click()\n",
    "\n",
    "    # aguardando logo GerenciaLab Aparecer na tela\n",
    "    WebDriverWait(driver, 30).until(EC.presence_of_element_located((By.XPATH, '/html/body/div[1]/div/div[1]/div/a/img')))\n",
    "    time.sleep(4)\n",
    "\n",
    "    return True"
   ]
  },
  {
   "cell_type": "code",
   "execution_count": null,
   "id": "72e69144",
   "metadata": {},
   "outputs": [
    {
     "name": "stdout",
     "output_type": "stream",
     "text": [
      "True\n"
     ]
    }
   ],
   "source": []
  },
  {
   "cell_type": "code",
   "execution_count": null,
   "id": "ce2af7ec",
   "metadata": {},
   "outputs": [
    {
     "ename": "TimeoutException",
     "evalue": "Message: \nStacktrace:\n\tGetHandleVerifier [0x008EFC03+61635]\n\tGetHandleVerifier [0x008EFC44+61700]\n\t(No symbol) [0x007105D3]\n\t(No symbol) [0x0075899E]\n\t(No symbol) [0x00758D3B]\n\t(No symbol) [0x007A0E12]\n\t(No symbol) [0x0077D2E4]\n\t(No symbol) [0x0079E61B]\n\t(No symbol) [0x0077D096]\n\t(No symbol) [0x0074C840]\n\t(No symbol) [0x0074D6A4]\n\tGetHandleVerifier [0x00B74523+2701795]\n\tGetHandleVerifier [0x00B6FCA6+2683238]\n\tGetHandleVerifier [0x00B8A9EE+2793134]\n\tGetHandleVerifier [0x009068C5+155013]\n\tGetHandleVerifier [0x0090CFAD+181357]\n\tGetHandleVerifier [0x008F7458+92440]\n\tGetHandleVerifier [0x008F7600+92864]\n\tGetHandleVerifier [0x008E1FF0+5296]\n\tBaseThreadInitThunk [0x77235D49+25]\n\tRtlInitializeExceptionChain [0x77E7D09B+107]\n\tRtlGetAppContainerNamedObjectPath [0x77E7D021+561]\n",
     "output_type": "error",
     "traceback": [
      "\u001b[31m---------------------------------------------------------------------------\u001b[39m",
      "\u001b[31mTimeoutException\u001b[39m                          Traceback (most recent call last)",
      "\u001b[36mCell\u001b[39m\u001b[36m \u001b[39m\u001b[32mIn[83]\u001b[39m\u001b[32m, line 1\u001b[39m\n\u001b[32m----> \u001b[39m\u001b[32m1\u001b[39m logado = \u001b[43mlogar\u001b[49m\u001b[43m(\u001b[49m\u001b[43mdriver\u001b[49m\u001b[43m)\u001b[49m\n",
      "\u001b[36mCell\u001b[39m\u001b[36m \u001b[39m\u001b[32mIn[82]\u001b[39m\u001b[32m, line 25\u001b[39m, in \u001b[36mlogar\u001b[39m\u001b[34m(driver)\u001b[39m\n\u001b[32m     22\u001b[39m driver.find_element(By.XPATH, \u001b[33m'\u001b[39m\u001b[33m//*[@id=\u001b[39m\u001b[33m\"\u001b[39m\u001b[33mauthLogin\u001b[39m\u001b[33m\"\u001b[39m\u001b[33m]\u001b[39m\u001b[33m'\u001b[39m).click()\n\u001b[32m     24\u001b[39m \u001b[38;5;66;03m# aguardando logo GerenciaLab Aparecer na tela\u001b[39;00m\n\u001b[32m---> \u001b[39m\u001b[32m25\u001b[39m logo_gerencialab = \u001b[43mWebDriverWait\u001b[49m\u001b[43m(\u001b[49m\u001b[43mdriver\u001b[49m\u001b[43m,\u001b[49m\u001b[43m \u001b[49m\u001b[32;43m30\u001b[39;49m\u001b[43m)\u001b[49m\u001b[43m.\u001b[49m\u001b[43muntil\u001b[49m\u001b[43m(\u001b[49m\u001b[43mEC\u001b[49m\u001b[43m.\u001b[49m\u001b[43mpresence_of_element_located\u001b[49m\u001b[43m(\u001b[49m\u001b[43m(\u001b[49m\u001b[43mBy\u001b[49m\u001b[43m.\u001b[49m\u001b[43mXPATH\u001b[49m\u001b[43m,\u001b[49m\u001b[43m \u001b[49m\u001b[33;43m'\u001b[39;49m\u001b[33;43m//*[@id=\u001b[39;49m\u001b[33;43m\"\u001b[39;49m\u001b[33;43mmain-wrapper\u001b[39;49m\u001b[33;43m\"\u001b[39;49m\u001b[33;43m]/div/div/h4\u001b[39;49m\u001b[33;43m'\u001b[39;49m\u001b[43m)\u001b[49m\u001b[43m)\u001b[49m\u001b[43m)\u001b[49m\n\u001b[32m     26\u001b[39m time.sleep(\u001b[32m4\u001b[39m)\n\u001b[32m     28\u001b[39m \u001b[38;5;28;01mreturn\u001b[39;00m \u001b[38;5;28;01mTrue\u001b[39;00m\n",
      "\u001b[36mFile \u001b[39m\u001b[32mc:\\Users\\berg_\\OneDrive\\Documentos\\Projeto_automacao_dia_entrega\\.venv\\Lib\\site-packages\\selenium\\webdriver\\support\\wait.py:138\u001b[39m, in \u001b[36mWebDriverWait.until\u001b[39m\u001b[34m(self, method, message)\u001b[39m\n\u001b[32m    136\u001b[39m         \u001b[38;5;28;01mbreak\u001b[39;00m\n\u001b[32m    137\u001b[39m     time.sleep(\u001b[38;5;28mself\u001b[39m._poll)\n\u001b[32m--> \u001b[39m\u001b[32m138\u001b[39m \u001b[38;5;28;01mraise\u001b[39;00m TimeoutException(message, screen, stacktrace)\n",
      "\u001b[31mTimeoutException\u001b[39m: Message: \nStacktrace:\n\tGetHandleVerifier [0x008EFC03+61635]\n\tGetHandleVerifier [0x008EFC44+61700]\n\t(No symbol) [0x007105D3]\n\t(No symbol) [0x0075899E]\n\t(No symbol) [0x00758D3B]\n\t(No symbol) [0x007A0E12]\n\t(No symbol) [0x0077D2E4]\n\t(No symbol) [0x0079E61B]\n\t(No symbol) [0x0077D096]\n\t(No symbol) [0x0074C840]\n\t(No symbol) [0x0074D6A4]\n\tGetHandleVerifier [0x00B74523+2701795]\n\tGetHandleVerifier [0x00B6FCA6+2683238]\n\tGetHandleVerifier [0x00B8A9EE+2793134]\n\tGetHandleVerifier [0x009068C5+155013]\n\tGetHandleVerifier [0x0090CFAD+181357]\n\tGetHandleVerifier [0x008F7458+92440]\n\tGetHandleVerifier [0x008F7600+92864]\n\tGetHandleVerifier [0x008E1FF0+5296]\n\tBaseThreadInitThunk [0x77235D49+25]\n\tRtlInitializeExceptionChain [0x77E7D09B+107]\n\tRtlGetAppContainerNamedObjectPath [0x77E7D021+561]\n"
     ]
    }
   ],
   "source": []
  },
  {
   "cell_type": "code",
   "execution_count": 26,
   "id": "875ebfc3",
   "metadata": {},
   "outputs": [],
   "source": [
    "# indo para ordens de serviço\n",
    "driver.get(\"https://qualylab.gerencialab.com.br/service-order\")"
   ]
  },
  {
   "cell_type": "code",
   "execution_count": 45,
   "id": "e0a1978b",
   "metadata": {},
   "outputs": [],
   "source": [
    "# aguardando label Ordem serviços aparecer na tela\n",
    "elemento = WebDriverWait(driver, 30).until(EC.presence_of_element_located((By.XPATH, '//*[@id=\"main-wrapper\"]/div/div/h4')))\n",
    "time.sleep(4)"
   ]
  },
  {
   "cell_type": "code",
   "execution_count": 49,
   "id": "98bee1e5",
   "metadata": {},
   "outputs": [],
   "source": [
    "# clicando no botão Limpar Pesquisa\n",
    "driver.find_element(By.XPATH, '//*[@id=\"ButtonsShowTable\"]/div/button[5]').click()"
   ]
  },
  {
   "cell_type": "code",
   "execution_count": null,
   "id": "30b71435",
   "metadata": {},
   "outputs": [],
   "source": [
    "# obtendo o campo da data de entrega\n",
    "campo_data = driver.find_element(By.XPATH, '//*[@id=\"dataPrazoEntregaOSForm\"]')"
   ]
  },
  {
   "cell_type": "code",
   "execution_count": 50,
   "id": "87a97edb",
   "metadata": {},
   "outputs": [],
   "source": [
    "campo_data.send_keys(retornar_periodo())"
   ]
  },
  {
   "cell_type": "code",
   "execution_count": 51,
   "id": "a6d078ba",
   "metadata": {},
   "outputs": [],
   "source": [
    "from selenium.webdriver.common.keys import Keys\n",
    "\n",
    "# clicando em aplicar\n",
    "driver.find_element(By.XPATH, '/html/body/div[5]/div[4]/button[2]').click()"
   ]
  },
  {
   "cell_type": "code",
   "execution_count": 72,
   "id": "1f561b27",
   "metadata": {},
   "outputs": [],
   "source": [
    "lista_amostras = driver.find_elements(By.CSS_SELECTOR, '#tableOrdemdeServico tr.even, #tableOrdemdeServico tr.odd')"
   ]
  },
  {
   "cell_type": "code",
   "execution_count": 73,
   "id": "613e4a13",
   "metadata": {},
   "outputs": [],
   "source": [
    "amostras = []\n",
    "for linha in lista_amostras:\n",
    "    cliente = linha.find_elements(By.TAG_NAME, 'td')[4].text\n",
    "    status_os = linha.find_elements(By.TAG_NAME, 'td')[1].text\n",
    "    amostra = linha.find_elements(By.TAG_NAME, 'td')[2].text\n",
    "    prioridade = linha.find_elements(By.TAG_NAME, 'td')[3].text\n",
    "    amostras.append((status_os, amostra, cliente, prioridade))"
   ]
  },
  {
   "cell_type": "code",
   "execution_count": null,
   "id": "c5a1cb9c",
   "metadata": {},
   "outputs": [],
   "source": []
  }
 ],
 "metadata": {
  "kernelspec": {
   "display_name": ".venv",
   "language": "python",
   "name": "python3"
  },
  "language_info": {
   "codemirror_mode": {
    "name": "ipython",
    "version": 3
   },
   "file_extension": ".py",
   "mimetype": "text/x-python",
   "name": "python",
   "nbconvert_exporter": "python",
   "pygments_lexer": "ipython3",
   "version": "3.12.3"
  }
 },
 "nbformat": 4,
 "nbformat_minor": 5
}
