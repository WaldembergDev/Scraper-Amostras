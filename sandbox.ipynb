{
 "cells": [
  {
   "cell_type": "code",
   "execution_count": 94,
   "id": "58103305",
   "metadata": {},
   "outputs": [
    {
     "data": {
      "text/plain": [
       "True"
      ]
     },
     "execution_count": 94,
     "metadata": {},
     "output_type": "execute_result"
    }
   ],
   "source": [
    "from selenium import webdriver\n",
    "from selenium.webdriver.common.by import By\n",
    "from selenium.webdriver.chrome.service import Service\n",
    "from webdriver_manager.chrome import ChromeDriverManager\n",
    "from selenium.webdriver.support import expected_conditions as EC\n",
    "from selenium.webdriver.support.ui import WebDriverWait\n",
    "from datetime import date, timedelta\n",
    "from dotenv import load_dotenv\n",
    "import os\n",
    "import time\n",
    "from selenium.webdriver.common.keys import Keys\n",
    "\n",
    "# carregando as variáveis de ambiente\n",
    "load_dotenv()\n"
   ]
  },
  {
   "cell_type": "code",
   "execution_count": 95,
   "id": "eec867be",
   "metadata": {},
   "outputs": [],
   "source": [
    "def retornar_periodo():\n",
    "    hoje = date.today()\n",
    "    amanha = hoje + timedelta(days=1)\n",
    "    hoje_str = date.strftime(hoje, '%d/%m/%Y')\n",
    "    amanha_str = date.strftime(amanha, '%d/%m/%Y')\n",
    "    periodo_str = (f'{hoje_str} - {amanha_str}')\n",
    "    return periodo_str\n"
   ]
  },
  {
   "cell_type": "code",
   "execution_count": 96,
   "id": "12172367",
   "metadata": {},
   "outputs": [],
   "source": [
    "def obter_driver():\n",
    "    service = Service(ChromeDriverManager().install())\n",
    "    driver = webdriver.Chrome(service=service)\n",
    "\n",
    "    # maximixando a tela\n",
    "    driver.maximize_window()\n",
    "    return driver"
   ]
  },
  {
   "cell_type": "code",
   "execution_count": 97,
   "id": "40bba9c1",
   "metadata": {},
   "outputs": [],
   "source": [
    "def logar(driver):\n",
    "    # indo para a tela de login\n",
    "    driver.get(\"https://qualylab.gerencialab.com.br/\")\n",
    "\n",
    "    # aguardando elemento aparecer na tela\n",
    "    WebDriverWait(driver, 30).until(\n",
    "        EC.presence_of_element_located((By.XPATH, '/html/body/div[2]/div/div/div/div/div[1]/a/img'))\n",
    "        )\n",
    "    time.sleep(4)\n",
    "\n",
    "    # obtendo as variáveis de ambiente\n",
    "    login = os.getenv('LOGIN')\n",
    "    password = os.getenv('PASSWORD')\n",
    "\n",
    "    # preenchendo o campo usuário\n",
    "    driver.find_element(By.XPATH, '//*[@id=\"loginsite\"]').send_keys(login)\n",
    "\n",
    "    # preenchendo o campo senha\n",
    "    driver.find_element(By.XPATH, '//*[@id=\"senhasite\"]').send_keys(password)\n",
    "\n",
    "    # clicando em acessar\n",
    "    driver.find_element(By.XPATH, '//*[@id=\"authLogin\"]').click()\n",
    "\n",
    "    # aguardando logo GerenciaLab Aparecer na tela\n",
    "    WebDriverWait(driver, 30).until(EC.presence_of_element_located((By.XPATH, '/html/body/div[1]/div/div[1]/div/a/img')))\n",
    "    time.sleep(4)\n",
    "\n",
    "    return True"
   ]
  },
  {
   "cell_type": "code",
   "execution_count": 106,
   "id": "875ebfc3",
   "metadata": {},
   "outputs": [],
   "source": [
    "# função que obtém a lista das amostras\n",
    "def obter_dados(driver):\n",
    "    # indo para ordens de serviço\n",
    "    driver.get(\"https://qualylab.gerencialab.com.br/service-order\")\n",
    "    # aguardando label Ordem serviços aparecer na tela\n",
    "    elemento = WebDriverWait(driver, 30).until(EC.presence_of_element_located((By.XPATH, '//*[@id=\"main-wrapper\"]/div/div/h4')))\n",
    "    time.sleep(4)\n",
    "    # clicando no botão Limpar Pesquisa\n",
    "    driver.find_element(By.XPATH, '//*[@id=\"ButtonsShowTable\"]/div/button[5]').click()\n",
    "    time.sleep(3)\n",
    "    # obtendo o campo da data de entrega\n",
    "    campo_data = driver.find_element(By.XPATH, '//*[@id=\"dataPrazoEntregaOSForm\"]')\n",
    "    campo_data.send_keys(retornar_periodo())\n",
    "\n",
    "    # clicando em aplicar\n",
    "    driver.find_element(By.XPATH, '/html/body/div[5]/div[4]/button[2]').click()\n",
    "    time.sleep(3)\n",
    "\n",
    "    # obtendo a lista de elementos\n",
    "    lista_elementos = driver.find_elements(By.CSS_SELECTOR, '#tableOrdemdeServico tr.even, #tableOrdemdeServico tr.odd')\n",
    "\n",
    "    amostras = []\n",
    "    for linha in lista_elementos:\n",
    "        cliente = linha.find_elements(By.TAG_NAME, 'td')[4].text\n",
    "        status_os = linha.find_elements(By.TAG_NAME, 'td')[1].text\n",
    "        amostra = linha.find_elements(By.TAG_NAME, 'td')[2].text\n",
    "        prioridade = linha.find_elements(By.TAG_NAME, 'td')[3].text\n",
    "        amostras.append((status_os, amostra, cliente, prioridade))\n",
    "\n",
    "    return amostras"
   ]
  },
  {
   "cell_type": "code",
   "execution_count": 104,
   "id": "ded01806",
   "metadata": {},
   "outputs": [
    {
     "name": "stdout",
     "output_type": "stream",
     "text": [
      "[('00000030/2025', 'OS00066/2025', '00000030804', 'Aguardando agendamento'), ('00000023/2025', 'OS00051/2025', '00000030787', 'Aguardando agendamento'), ('00000023/2025', 'OS00050/2025', '00000030785', 'Aguardando agendamento'), ('00000023/2025', 'OS00050/2025', '00000030786', 'Aguardando agendamento'), ('00000025/2025', 'OS00046/2025', '00000030779', 'Aguardando agendamento'), ('00000025/2025', 'OS00046/2025', '00000030780', 'Aguardando agendamento')]\n"
     ]
    }
   ],
   "source": [
    "# testes\n",
    "driver = obter_driver()\n",
    "logado = logar(driver)\n",
    "if logado:\n",
    "    dados = obter_dados(driver)\n",
    "    print(dados)\n",
    "else:\n",
    "    print('Não foi possível logar')"
   ]
  }
 ],
 "metadata": {
  "kernelspec": {
   "display_name": ".venv",
   "language": "python",
   "name": "python3"
  },
  "language_info": {
   "codemirror_mode": {
    "name": "ipython",
    "version": 3
   },
   "file_extension": ".py",
   "mimetype": "text/x-python",
   "name": "python",
   "nbconvert_exporter": "python",
   "pygments_lexer": "ipython3",
   "version": "3.12.3"
  }
 },
 "nbformat": 4,
 "nbformat_minor": 5
}
