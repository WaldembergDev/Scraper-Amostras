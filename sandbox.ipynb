{
 "cells": [
  {
   "cell_type": "code",
   "execution_count": 1,
   "id": "58103305",
   "metadata": {},
   "outputs": [
    {
     "data": {
      "text/plain": [
       "True"
      ]
     },
     "execution_count": 1,
     "metadata": {},
     "output_type": "execute_result"
    }
   ],
   "source": [
    "from selenium import webdriver\n",
    "from selenium.webdriver.common.by import By\n",
    "from selenium.webdriver.chrome.service import Service\n",
    "from webdriver_manager.chrome import ChromeDriverManager\n",
    "from selenium.webdriver.support import expected_conditions as EC\n",
    "from selenium.webdriver.support.ui import WebDriverWait\n",
    "from selenium.webdriver.chrome.options import Options\n",
    "from datetime import date, timedelta\n",
    "from dotenv import load_dotenv\n",
    "from selenium.webdriver.common.keys import Keys\n",
    "import os\n",
    "import time\n",
    "\n",
    "# carregando as variáveis de ambiente\n",
    "load_dotenv()\n"
   ]
  },
  {
   "cell_type": "code",
   "execution_count": 2,
   "id": "eec867be",
   "metadata": {},
   "outputs": [],
   "source": [
    "def retornar_periodo():\n",
    "    hoje = date.today()\n",
    "    amanha = hoje + timedelta(days=1)\n",
    "    hoje_str = date.strftime(hoje, '%d/%m/%Y')\n",
    "    amanha_str = date.strftime(amanha, '%d/%m/%Y')\n",
    "    periodo_str = (f'{hoje_str} - {amanha_str}')\n",
    "    return periodo_str\n"
   ]
  },
  {
   "cell_type": "code",
   "execution_count": 3,
   "id": "12172367",
   "metadata": {},
   "outputs": [],
   "source": [
    "def obter_driver():\n",
    "    try:\n",
    "        # obtendo o usuário logado\n",
    "        usuario = os.getlogin()\n",
    "        chrome_options = Options()\n",
    "        chrome_options.add_argument(\n",
    "            f'user-data-dir=C:/Users/{usuario}/AppData/Local/Google/Chrome/Selenium'\n",
    "        )\n",
    "        service = Service(ChromeDriverManager().install())\n",
    "        driver = webdriver.Chrome(service=service, options=chrome_options)\n",
    "\n",
    "        # maximixando a tela\n",
    "        driver.maximize_window()\n",
    "        return driver\n",
    "    except Exception as e:\n",
    "        print(f'Erro ao obter o driver: {e}')\n",
    "        return False"
   ]
  },
  {
   "cell_type": "code",
   "execution_count": 4,
   "id": "40bba9c1",
   "metadata": {},
   "outputs": [],
   "source": [
    "def logar(driver):\n",
    "    try:\n",
    "        # indo para a tela de login\n",
    "        driver.get(\"https://qualylab.gerencialab.com.br/\")\n",
    "\n",
    "        # aguardando elemento aparecer na tela\n",
    "        WebDriverWait(driver, 30).until(\n",
    "            EC.presence_of_element_located((By.XPATH, '//img[@src=\"/assets/images/Logo_Gerencialab-azul.png\"]'))\n",
    "            )\n",
    "        time.sleep(4)\n",
    "\n",
    "        # obtendo as variáveis de ambiente\n",
    "        login = os.getenv('LOGIN')\n",
    "        password = os.getenv('PASSWORD')\n",
    "\n",
    "        # preenchendo o campo usuário\n",
    "        driver.find_element(By.XPATH, '//*[@id=\"loginsite\"]').send_keys(login)\n",
    "\n",
    "        # preenchendo o campo senha\n",
    "        driver.find_element(By.XPATH, '//*[@id=\"senhasite\"]').send_keys(password)\n",
    "\n",
    "        # clicando em acessar\n",
    "        driver.find_element(By.XPATH, '//*[@id=\"authLogin\"]').click()\n",
    "\n",
    "        # aguardando logo GerenciaLab Aparecer na tela\n",
    "        WebDriverWait(driver, 30).until(\n",
    "            EC.presence_of_element_located((By.XPATH, '//img[@src=\"/assets/images/gerencialab-logo-n.png\"]'))\n",
    "            )\n",
    "        time.sleep(4)\n",
    "\n",
    "        return True\n",
    "    except Exception as e:\n",
    "        print(f'Erro ao logar no sistema: {e}')\n",
    "        return False"
   ]
  },
  {
   "cell_type": "code",
   "execution_count": 5,
   "id": "875ebfc3",
   "metadata": {},
   "outputs": [],
   "source": [
    "# função que obtém a lista das amostras\n",
    "def obter_dados(driver):\n",
    "    try:\n",
    "        # indo para ordens de serviço\n",
    "        driver.get(\"https://qualylab.gerencialab.com.br/service-order\")\n",
    "        # aguardando label Ordem serviços aparecer na tela\n",
    "        WebDriverWait(driver, 30).until(EC.presence_of_element_located((By.XPATH, '//h4[text()=\"Ordem serviços\"]')))\n",
    "        time.sleep(4)\n",
    "        # clicando no botão Limpar Pesquisa\n",
    "        driver.find_element(By.XPATH, '//span[text()=\"Limpar Pesquisa\"]').click()\n",
    "        time.sleep(4)\n",
    "        # obtendo o campo da data de entrega\n",
    "        campo_data = driver.find_element(By.XPATH, '//*[@id=\"dataPrazoEntregaOSForm\"]')\n",
    "        campo_data.send_keys(retornar_periodo())\n",
    "\n",
    "        # clicando em aplicar\n",
    "        driver.find_element(By.XPATH, '//div[@class=\"drp-buttons\"]//button[text()=\"Aplicar\" and not(@disabled)]').click()\n",
    "        time.sleep(4)\n",
    "\n",
    "        # obtendo a lista de elementos\n",
    "        lista_elementos = driver.find_elements(By.CSS_SELECTOR, '#tableOrdemdeServico tr.even, #tableOrdemdeServico tr.odd')\n",
    "\n",
    "        amostras = []\n",
    "        for linha in lista_elementos:\n",
    "            cliente = linha.find_elements(By.TAG_NAME, 'td')[4].text\n",
    "            status_os = linha.find_elements(By.TAG_NAME, 'td')[1].text\n",
    "            amostra = linha.find_elements(By.TAG_NAME, 'td')[2].text\n",
    "            prioridade = linha.find_elements(By.TAG_NAME, 'td')[3].text\n",
    "            amostras.append((status_os, amostra, cliente, prioridade))\n",
    "\n",
    "        return amostras\n",
    "    except Exception as e:\n",
    "        print(f'Erro ao obter os dados: {e}')\n",
    "        return None"
   ]
  },
  {
   "cell_type": "code",
   "execution_count": 6,
   "id": "a3fe7082",
   "metadata": {},
   "outputs": [],
   "source": [
    "def sair_sistema(driver):\n",
    "    try:\n",
    "        driver.find_element(By.XPATH, '//a[@href=\"/sair\"]').click()\n",
    "        time.sleep(4)\n",
    "        driver.close()\n",
    "        return True\n",
    "    except Exception as e:\n",
    "        print(f'Erro ao fechar o navegador: {e}')\n",
    "        return False"
   ]
  },
  {
   "cell_type": "code",
   "execution_count": null,
   "id": "8b5b04a8",
   "metadata": {},
   "outputs": [],
   "source": [
    "# Iniciar automação\n",
    "def iniciar_automacao():\n",
    "    driver = obter_driver()\n",
    "    if not driver:\n",
    "        return 'Erro ao gerar os'"
   ]
  },
  {
   "cell_type": "code",
   "execution_count": 7,
   "id": "ded01806",
   "metadata": {},
   "outputs": [
    {
     "name": "stdout",
     "output_type": "stream",
     "text": [
      "[('00000030/2025', 'OS00066/2025', '00000030804', 'Aguardando agendamento'), ('00000023/2025', 'OS00051/2025', '00000030787', 'Aguardando agendamento'), ('00000023/2025', 'OS00050/2025', '00000030785', 'Aguardando agendamento'), ('00000023/2025', 'OS00050/2025', '00000030786', 'Aguardando agendamento'), ('00000025/2025', 'OS00046/2025', '00000030779', 'Aguardando agendamento'), ('00000025/2025', 'OS00046/2025', '00000030780', 'Aguardando agendamento')]\n"
     ]
    }
   ],
   "source": [
    "# testes\n",
    "driver = obter_driver()\n",
    "if not driver:\n",
    "    exit()\n",
    "logado = logar(driver)\n",
    "if not logado:\n",
    "    exit()\n",
    "\n",
    "dados = obter_dados(driver)\n",
    "print(dados)\n",
    "\n",
    "saiu = sair_sistema(driver)\n",
    "if not saiu:\n",
    "    exit()"
   ]
  }
 ],
 "metadata": {
  "kernelspec": {
   "display_name": ".venv",
   "language": "python",
   "name": "python3"
  },
  "language_info": {
   "codemirror_mode": {
    "name": "ipython",
    "version": 3
   },
   "file_extension": ".py",
   "mimetype": "text/x-python",
   "name": "python",
   "nbconvert_exporter": "python",
   "pygments_lexer": "ipython3",
   "version": "3.12.3"
  }
 },
 "nbformat": 4,
 "nbformat_minor": 5
}
